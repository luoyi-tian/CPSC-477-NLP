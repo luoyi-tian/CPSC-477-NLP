{
  "cells": [
    {
      "cell_type": "markdown",
      "metadata": {
        "id": "FTaq8lJ2NjHZ"
      },
      "source": [
        "# Standard data"
      ]
    },
    {
      "cell_type": "markdown",
      "metadata": {
        "id": "zQO7pLeUaxMr"
      },
      "source": [
        "# Preprocess"
      ]
    },
    {
      "cell_type": "code",
      "execution_count": null,
      "metadata": {
        "id": "e2vQ5hsrV1k_"
      },
      "outputs": [],
      "source": [
        "import pandas as pd\n",
        "import re\n",
        "import numpy as np\n",
        "from sentence_transformers import SentenceTransformer\n"
      ]
    },
    {
      "cell_type": "code",
      "execution_count": null,
      "metadata": {
        "id": "AHaoWo8LfPkY",
        "colab": {
          "base_uri": "https://localhost:8080/"
        },
        "outputId": "9739cd52-d436-4f71-e4e0-fe296d80afe1"
      },
      "outputs": [
        {
          "output_type": "stream",
          "name": "stdout",
          "text": [
            "Mounted at /content/drive\n"
          ]
        }
      ],
      "source": [
        "from google.colab import drive\n",
        "drive.mount('/content/drive')"
      ]
    },
    {
      "cell_type": "code",
      "execution_count": null,
      "metadata": {
        "id": "mqu3_0YCfZ8J",
        "colab": {
          "base_uri": "https://localhost:8080/",
          "height": 324
        },
        "outputId": "1111128e-7a2f-488a-da14-cd408bf80047"
      },
      "outputs": [
        {
          "output_type": "stream",
          "name": "stdout",
          "text": [
            "Requirement already satisfied: gdown in /usr/local/lib/python3.11/dist-packages (5.2.0)\n",
            "Requirement already satisfied: beautifulsoup4 in /usr/local/lib/python3.11/dist-packages (from gdown) (4.13.4)\n",
            "Requirement already satisfied: filelock in /usr/local/lib/python3.11/dist-packages (from gdown) (3.18.0)\n",
            "Requirement already satisfied: requests[socks] in /usr/local/lib/python3.11/dist-packages (from gdown) (2.32.3)\n",
            "Requirement already satisfied: tqdm in /usr/local/lib/python3.11/dist-packages (from gdown) (4.67.1)\n",
            "Requirement already satisfied: soupsieve>1.2 in /usr/local/lib/python3.11/dist-packages (from beautifulsoup4->gdown) (2.6)\n",
            "Requirement already satisfied: typing-extensions>=4.0.0 in /usr/local/lib/python3.11/dist-packages (from beautifulsoup4->gdown) (4.13.2)\n",
            "Requirement already satisfied: charset-normalizer<4,>=2 in /usr/local/lib/python3.11/dist-packages (from requests[socks]->gdown) (3.4.1)\n",
            "Requirement already satisfied: idna<4,>=2.5 in /usr/local/lib/python3.11/dist-packages (from requests[socks]->gdown) (3.10)\n",
            "Requirement already satisfied: urllib3<3,>=1.21.1 in /usr/local/lib/python3.11/dist-packages (from requests[socks]->gdown) (2.3.0)\n",
            "Requirement already satisfied: certifi>=2017.4.17 in /usr/local/lib/python3.11/dist-packages (from requests[socks]->gdown) (2025.1.31)\n",
            "Requirement already satisfied: PySocks!=1.5.7,>=1.5.6 in /usr/local/lib/python3.11/dist-packages (from requests[socks]->gdown) (1.7.1)\n"
          ]
        },
        {
          "output_type": "stream",
          "name": "stderr",
          "text": [
            "Downloading...\n",
            "From (original): https://drive.google.com/uc?id=165wV72OUUHYDO3avmcrVOI2QGkoGTrL-\n",
            "From (redirected): https://drive.google.com/uc?id=165wV72OUUHYDO3avmcrVOI2QGkoGTrL-&confirm=t&uuid=50312bcb-02e4-45a2-804a-2e6864f98b4a\n",
            "To: /content/pubmed_metadata_sample_full.csv\n",
            "100%|██████████| 294M/294M [00:09<00:00, 32.1MB/s]\n"
          ]
        },
        {
          "output_type": "execute_result",
          "data": {
            "text/plain": [
              "'pubmed_metadata_sample_full.csv'"
            ],
            "application/vnd.google.colaboratory.intrinsic+json": {
              "type": "string"
            }
          },
          "metadata": {},
          "execution_count": 3
        }
      ],
      "source": [
        "!pip install -U gdown\n",
        "import gdown\n",
        "\n",
        "\n",
        "file_id = '165wV72OUUHYDO3avmcrVOI2QGkoGTrL-'\n",
        "gdown.download(f\"https://drive.google.com/uc?id={file_id}\", \"pubmed_metadata_sample_full.csv\", quiet=False)\n"
      ]
    },
    {
      "cell_type": "code",
      "execution_count": null,
      "metadata": {
        "id": "28PfkjIxawie",
        "colab": {
          "base_uri": "https://localhost:8080/"
        },
        "outputId": "fd8c9b29-7fd3-4c61-9628-74e8b4db3c48"
      },
      "outputs": [
        {
          "output_type": "stream",
          "name": "stdout",
          "text": [
            "✅ Cleaned dataset: 162360 articles\n"
          ]
        }
      ],
      "source": [
        "import pandas as pd\n",
        "import re\n",
        "\n",
        "df = pd.read_csv(\"pubmed_metadata_sample_full.csv\", usecols=[0, 1, 2, 3])\n",
        "\n",
        "df.columns = ['pmid', 'title', 'abstract', 'keywords']\n",
        "\n",
        "df = df.dropna(subset=['title', 'abstract'])\n",
        "\n",
        "def clean_text(text):\n",
        "    text = re.sub(r'\\s+', ' ', text)\n",
        "    text = re.sub(r'[^a-zA-Z0-9., ]', '', text)\n",
        "    return text.strip()\n",
        "\n",
        "\n",
        "df['title'] = df['title'].apply(clean_text)\n",
        "df['abstract'] = df['abstract'].apply(clean_text)\n",
        "df['keywords'] = df['keywords'].fillna(\"\").apply(lambda x: clean_text(x.lower()))  # 小写关键词并清洗\n",
        "\n",
        "\n",
        "df['full_text'] = df['title'] + \" \" + df['abstract'] + \" \" + df['keywords']\n",
        "\n",
        "\n",
        "df.to_csv(\"cleaned_clinical_trials.csv\", index=False)\n",
        "print(f\"✅ Cleaned dataset: {df.shape[0]} articles\")\n"
      ]
    },
    {
      "cell_type": "code",
      "execution_count": null,
      "metadata": {
        "colab": {
          "base_uri": "https://localhost:8080/",
          "height": 289
        },
        "id": "MHgwvBF4gS9A",
        "outputId": "fd87128f-fb94-4648-80d6-7ba7223d90fa"
      },
      "outputs": [
        {
          "output_type": "execute_result",
          "data": {
            "text/plain": [
              "       pmid                                              title  \\\n",
              "0  19082600  The ornamental variety, Japanese striped corn,...   \n",
              "2  23790829  Toxicological characterization of the landfill...   \n",
              "3  25174527  Geographic differences in the distribution of ...   \n",
              "4  18493761  Phase I dose escalation study of docetaxel wit...   \n",
              "5  29643479  Use of statins and the risk of dementia and mi...   \n",
              "\n",
              "                                            abstract  \\\n",
              "0  Phenylalanine ammonialyase PAL, EC 4.3.1.24 fo...   \n",
              "2  In this research, toxicological safety of two ...   \n",
              "3  To compare the distribution of the intrinsic m...   \n",
              "4  The primary objectives of this study were to e...   \n",
              "5  We conducted a systematic review and metaanaly...   \n",
              "\n",
              "                                            keywords  \\\n",
              "0  anthocyanins enzyme stability freeze drying ge...   \n",
              "2  ao apdc allium cepa bod cbmn cod chemical trea...   \n",
              "3  adolescent adult age factors aged aged, 80 and...   \n",
              "4  adult aged antineoplastic combined chemotherap...   \n",
              "5  cognitive dysfunction dementia humans hydroxym...   \n",
              "\n",
              "                                           full_text  \n",
              "0  The ornamental variety, Japanese striped corn,...  \n",
              "2  Toxicological characterization of the landfill...  \n",
              "3  Geographic differences in the distribution of ...  \n",
              "4  Phase I dose escalation study of docetaxel wit...  \n",
              "5  Use of statins and the risk of dementia and mi...  "
            ],
            "text/html": [
              "\n",
              "  <div id=\"df-557a980f-058a-4468-94fb-f1bee2e03b55\" class=\"colab-df-container\">\n",
              "    <div>\n",
              "<style scoped>\n",
              "    .dataframe tbody tr th:only-of-type {\n",
              "        vertical-align: middle;\n",
              "    }\n",
              "\n",
              "    .dataframe tbody tr th {\n",
              "        vertical-align: top;\n",
              "    }\n",
              "\n",
              "    .dataframe thead th {\n",
              "        text-align: right;\n",
              "    }\n",
              "</style>\n",
              "<table border=\"1\" class=\"dataframe\">\n",
              "  <thead>\n",
              "    <tr style=\"text-align: right;\">\n",
              "      <th></th>\n",
              "      <th>pmid</th>\n",
              "      <th>title</th>\n",
              "      <th>abstract</th>\n",
              "      <th>keywords</th>\n",
              "      <th>full_text</th>\n",
              "    </tr>\n",
              "  </thead>\n",
              "  <tbody>\n",
              "    <tr>\n",
              "      <th>0</th>\n",
              "      <td>19082600</td>\n",
              "      <td>The ornamental variety, Japanese striped corn,...</td>\n",
              "      <td>Phenylalanine ammonialyase PAL, EC 4.3.1.24 fo...</td>\n",
              "      <td>anthocyanins enzyme stability freeze drying ge...</td>\n",
              "      <td>The ornamental variety, Japanese striped corn,...</td>\n",
              "    </tr>\n",
              "    <tr>\n",
              "      <th>2</th>\n",
              "      <td>23790829</td>\n",
              "      <td>Toxicological characterization of the landfill...</td>\n",
              "      <td>In this research, toxicological safety of two ...</td>\n",
              "      <td>ao apdc allium cepa bod cbmn cod chemical trea...</td>\n",
              "      <td>Toxicological characterization of the landfill...</td>\n",
              "    </tr>\n",
              "    <tr>\n",
              "      <th>3</th>\n",
              "      <td>25174527</td>\n",
              "      <td>Geographic differences in the distribution of ...</td>\n",
              "      <td>To compare the distribution of the intrinsic m...</td>\n",
              "      <td>adolescent adult age factors aged aged, 80 and...</td>\n",
              "      <td>Geographic differences in the distribution of ...</td>\n",
              "    </tr>\n",
              "    <tr>\n",
              "      <th>4</th>\n",
              "      <td>18493761</td>\n",
              "      <td>Phase I dose escalation study of docetaxel wit...</td>\n",
              "      <td>The primary objectives of this study were to e...</td>\n",
              "      <td>adult aged antineoplastic combined chemotherap...</td>\n",
              "      <td>Phase I dose escalation study of docetaxel wit...</td>\n",
              "    </tr>\n",
              "    <tr>\n",
              "      <th>5</th>\n",
              "      <td>29643479</td>\n",
              "      <td>Use of statins and the risk of dementia and mi...</td>\n",
              "      <td>We conducted a systematic review and metaanaly...</td>\n",
              "      <td>cognitive dysfunction dementia humans hydroxym...</td>\n",
              "      <td>Use of statins and the risk of dementia and mi...</td>\n",
              "    </tr>\n",
              "  </tbody>\n",
              "</table>\n",
              "</div>\n",
              "    <div class=\"colab-df-buttons\">\n",
              "\n",
              "  <div class=\"colab-df-container\">\n",
              "    <button class=\"colab-df-convert\" onclick=\"convertToInteractive('df-557a980f-058a-4468-94fb-f1bee2e03b55')\"\n",
              "            title=\"Convert this dataframe to an interactive table.\"\n",
              "            style=\"display:none;\">\n",
              "\n",
              "  <svg xmlns=\"http://www.w3.org/2000/svg\" height=\"24px\" viewBox=\"0 -960 960 960\">\n",
              "    <path d=\"M120-120v-720h720v720H120Zm60-500h600v-160H180v160Zm220 220h160v-160H400v160Zm0 220h160v-160H400v160ZM180-400h160v-160H180v160Zm440 0h160v-160H620v160ZM180-180h160v-160H180v160Zm440 0h160v-160H620v160Z\"/>\n",
              "  </svg>\n",
              "    </button>\n",
              "\n",
              "  <style>\n",
              "    .colab-df-container {\n",
              "      display:flex;\n",
              "      gap: 12px;\n",
              "    }\n",
              "\n",
              "    .colab-df-convert {\n",
              "      background-color: #E8F0FE;\n",
              "      border: none;\n",
              "      border-radius: 50%;\n",
              "      cursor: pointer;\n",
              "      display: none;\n",
              "      fill: #1967D2;\n",
              "      height: 32px;\n",
              "      padding: 0 0 0 0;\n",
              "      width: 32px;\n",
              "    }\n",
              "\n",
              "    .colab-df-convert:hover {\n",
              "      background-color: #E2EBFA;\n",
              "      box-shadow: 0px 1px 2px rgba(60, 64, 67, 0.3), 0px 1px 3px 1px rgba(60, 64, 67, 0.15);\n",
              "      fill: #174EA6;\n",
              "    }\n",
              "\n",
              "    .colab-df-buttons div {\n",
              "      margin-bottom: 4px;\n",
              "    }\n",
              "\n",
              "    [theme=dark] .colab-df-convert {\n",
              "      background-color: #3B4455;\n",
              "      fill: #D2E3FC;\n",
              "    }\n",
              "\n",
              "    [theme=dark] .colab-df-convert:hover {\n",
              "      background-color: #434B5C;\n",
              "      box-shadow: 0px 1px 3px 1px rgba(0, 0, 0, 0.15);\n",
              "      filter: drop-shadow(0px 1px 2px rgba(0, 0, 0, 0.3));\n",
              "      fill: #FFFFFF;\n",
              "    }\n",
              "  </style>\n",
              "\n",
              "    <script>\n",
              "      const buttonEl =\n",
              "        document.querySelector('#df-557a980f-058a-4468-94fb-f1bee2e03b55 button.colab-df-convert');\n",
              "      buttonEl.style.display =\n",
              "        google.colab.kernel.accessAllowed ? 'block' : 'none';\n",
              "\n",
              "      async function convertToInteractive(key) {\n",
              "        const element = document.querySelector('#df-557a980f-058a-4468-94fb-f1bee2e03b55');\n",
              "        const dataTable =\n",
              "          await google.colab.kernel.invokeFunction('convertToInteractive',\n",
              "                                                    [key], {});\n",
              "        if (!dataTable) return;\n",
              "\n",
              "        const docLinkHtml = 'Like what you see? Visit the ' +\n",
              "          '<a target=\"_blank\" href=https://colab.research.google.com/notebooks/data_table.ipynb>data table notebook</a>'\n",
              "          + ' to learn more about interactive tables.';\n",
              "        element.innerHTML = '';\n",
              "        dataTable['output_type'] = 'display_data';\n",
              "        await google.colab.output.renderOutput(dataTable, element);\n",
              "        const docLink = document.createElement('div');\n",
              "        docLink.innerHTML = docLinkHtml;\n",
              "        element.appendChild(docLink);\n",
              "      }\n",
              "    </script>\n",
              "  </div>\n",
              "\n",
              "\n",
              "<div id=\"df-4b83a6f4-02c7-43fa-bb84-79136eef55fb\">\n",
              "  <button class=\"colab-df-quickchart\" onclick=\"quickchart('df-4b83a6f4-02c7-43fa-bb84-79136eef55fb')\"\n",
              "            title=\"Suggest charts\"\n",
              "            style=\"display:none;\">\n",
              "\n",
              "<svg xmlns=\"http://www.w3.org/2000/svg\" height=\"24px\"viewBox=\"0 0 24 24\"\n",
              "     width=\"24px\">\n",
              "    <g>\n",
              "        <path d=\"M19 3H5c-1.1 0-2 .9-2 2v14c0 1.1.9 2 2 2h14c1.1 0 2-.9 2-2V5c0-1.1-.9-2-2-2zM9 17H7v-7h2v7zm4 0h-2V7h2v10zm4 0h-2v-4h2v4z\"/>\n",
              "    </g>\n",
              "</svg>\n",
              "  </button>\n",
              "\n",
              "<style>\n",
              "  .colab-df-quickchart {\n",
              "      --bg-color: #E8F0FE;\n",
              "      --fill-color: #1967D2;\n",
              "      --hover-bg-color: #E2EBFA;\n",
              "      --hover-fill-color: #174EA6;\n",
              "      --disabled-fill-color: #AAA;\n",
              "      --disabled-bg-color: #DDD;\n",
              "  }\n",
              "\n",
              "  [theme=dark] .colab-df-quickchart {\n",
              "      --bg-color: #3B4455;\n",
              "      --fill-color: #D2E3FC;\n",
              "      --hover-bg-color: #434B5C;\n",
              "      --hover-fill-color: #FFFFFF;\n",
              "      --disabled-bg-color: #3B4455;\n",
              "      --disabled-fill-color: #666;\n",
              "  }\n",
              "\n",
              "  .colab-df-quickchart {\n",
              "    background-color: var(--bg-color);\n",
              "    border: none;\n",
              "    border-radius: 50%;\n",
              "    cursor: pointer;\n",
              "    display: none;\n",
              "    fill: var(--fill-color);\n",
              "    height: 32px;\n",
              "    padding: 0;\n",
              "    width: 32px;\n",
              "  }\n",
              "\n",
              "  .colab-df-quickchart:hover {\n",
              "    background-color: var(--hover-bg-color);\n",
              "    box-shadow: 0 1px 2px rgba(60, 64, 67, 0.3), 0 1px 3px 1px rgba(60, 64, 67, 0.15);\n",
              "    fill: var(--button-hover-fill-color);\n",
              "  }\n",
              "\n",
              "  .colab-df-quickchart-complete:disabled,\n",
              "  .colab-df-quickchart-complete:disabled:hover {\n",
              "    background-color: var(--disabled-bg-color);\n",
              "    fill: var(--disabled-fill-color);\n",
              "    box-shadow: none;\n",
              "  }\n",
              "\n",
              "  .colab-df-spinner {\n",
              "    border: 2px solid var(--fill-color);\n",
              "    border-color: transparent;\n",
              "    border-bottom-color: var(--fill-color);\n",
              "    animation:\n",
              "      spin 1s steps(1) infinite;\n",
              "  }\n",
              "\n",
              "  @keyframes spin {\n",
              "    0% {\n",
              "      border-color: transparent;\n",
              "      border-bottom-color: var(--fill-color);\n",
              "      border-left-color: var(--fill-color);\n",
              "    }\n",
              "    20% {\n",
              "      border-color: transparent;\n",
              "      border-left-color: var(--fill-color);\n",
              "      border-top-color: var(--fill-color);\n",
              "    }\n",
              "    30% {\n",
              "      border-color: transparent;\n",
              "      border-left-color: var(--fill-color);\n",
              "      border-top-color: var(--fill-color);\n",
              "      border-right-color: var(--fill-color);\n",
              "    }\n",
              "    40% {\n",
              "      border-color: transparent;\n",
              "      border-right-color: var(--fill-color);\n",
              "      border-top-color: var(--fill-color);\n",
              "    }\n",
              "    60% {\n",
              "      border-color: transparent;\n",
              "      border-right-color: var(--fill-color);\n",
              "    }\n",
              "    80% {\n",
              "      border-color: transparent;\n",
              "      border-right-color: var(--fill-color);\n",
              "      border-bottom-color: var(--fill-color);\n",
              "    }\n",
              "    90% {\n",
              "      border-color: transparent;\n",
              "      border-bottom-color: var(--fill-color);\n",
              "    }\n",
              "  }\n",
              "</style>\n",
              "\n",
              "  <script>\n",
              "    async function quickchart(key) {\n",
              "      const quickchartButtonEl =\n",
              "        document.querySelector('#' + key + ' button');\n",
              "      quickchartButtonEl.disabled = true;  // To prevent multiple clicks.\n",
              "      quickchartButtonEl.classList.add('colab-df-spinner');\n",
              "      try {\n",
              "        const charts = await google.colab.kernel.invokeFunction(\n",
              "            'suggestCharts', [key], {});\n",
              "      } catch (error) {\n",
              "        console.error('Error during call to suggestCharts:', error);\n",
              "      }\n",
              "      quickchartButtonEl.classList.remove('colab-df-spinner');\n",
              "      quickchartButtonEl.classList.add('colab-df-quickchart-complete');\n",
              "    }\n",
              "    (() => {\n",
              "      let quickchartButtonEl =\n",
              "        document.querySelector('#df-4b83a6f4-02c7-43fa-bb84-79136eef55fb button');\n",
              "      quickchartButtonEl.style.display =\n",
              "        google.colab.kernel.accessAllowed ? 'block' : 'none';\n",
              "    })();\n",
              "  </script>\n",
              "</div>\n",
              "\n",
              "    </div>\n",
              "  </div>\n"
            ],
            "application/vnd.google.colaboratory.intrinsic+json": {
              "type": "dataframe",
              "variable_name": "df"
            }
          },
          "metadata": {},
          "execution_count": 5
        }
      ],
      "source": [
        "df.head()"
      ]
    },
    {
      "cell_type": "markdown",
      "metadata": {
        "id": "CK4eteKCb75m"
      },
      "source": [
        "# SBERT for embeddings"
      ]
    },
    {
      "cell_type": "markdown",
      "metadata": {
        "id": "UF8TsuJFc3fC"
      },
      "source": [
        "# FAISS (fast similarity search)"
      ]
    },
    {
      "cell_type": "code",
      "execution_count": null,
      "metadata": {
        "colab": {
          "base_uri": "https://localhost:8080/"
        },
        "id": "7Eq8eHYQfqxc",
        "outputId": "442f0659-c9a8-4790-d86a-a28c14fde715"
      },
      "outputs": [
        {
          "output_type": "stream",
          "name": "stdout",
          "text": [
            "Collecting faiss-cpu\n",
            "  Downloading faiss_cpu-1.10.0-cp311-cp311-manylinux_2_28_x86_64.whl.metadata (4.4 kB)\n",
            "Requirement already satisfied: numpy<3.0,>=1.25.0 in /usr/local/lib/python3.11/dist-packages (from faiss-cpu) (2.0.2)\n",
            "Requirement already satisfied: packaging in /usr/local/lib/python3.11/dist-packages (from faiss-cpu) (24.2)\n",
            "Downloading faiss_cpu-1.10.0-cp311-cp311-manylinux_2_28_x86_64.whl (30.7 MB)\n",
            "\u001b[2K   \u001b[90m━━━━━━━━━━━━━━━━━━━━━━━━━━━━━━━━━━━━━━━━\u001b[0m \u001b[32m30.7/30.7 MB\u001b[0m \u001b[31m57.4 MB/s\u001b[0m eta \u001b[36m0:00:00\u001b[0m\n",
            "\u001b[?25hInstalling collected packages: faiss-cpu\n",
            "Successfully installed faiss-cpu-1.10.0\n"
          ]
        }
      ],
      "source": [
        "pip install faiss-cpu"
      ]
    },
    {
      "cell_type": "markdown",
      "source": [
        "# Finetune"
      ],
      "metadata": {
        "id": "hYuisk9ueJLd"
      }
    },
    {
      "cell_type": "code",
      "source": [
        "# Load RELISH Labels and Build Ground-Truth Mapping\n",
        "\n",
        "def load_labeled_data(json_file_path):\n",
        "    with open(json_file_path, 'r') as f:\n",
        "        return json.load(f)\n",
        "\n",
        "def extract_pmid_and_responses(labeled_data):\n",
        "    queries = []\n",
        "    for entry in labeled_data:\n",
        "        pmid = entry['pmid']\n",
        "        response = entry['response']\n",
        "        queries.append({\n",
        "            'pmid': pmid,\n",
        "            'relevant': response.get('relevant', []),\n",
        "            'partial': response.get('partial', []),\n",
        "            'irrelevant': response.get('irrelevant', [])\n",
        "        })\n",
        "    return queries\n",
        "\n",
        "# Update the file path as needed.\n",
        "json_file_path = '/content/drive/MyDrive/CPSC577/RELISH_v1.json'\n",
        "labeled_data = load_labeled_data(json_file_path)\n",
        "queries_list = extract_pmid_and_responses(labeled_data)\n",
        "\n",
        "\n",
        "random.seed(42)\n",
        "random.shuffle(labeled_data)\n",
        "n = len(labeled_data)\n",
        "train_data = labeled_data[:int(0.8 * n)]\n",
        "val_data = labeled_data[int(0.8 * n):int(0.9 * n)]\n",
        "test_data = labeled_data[int(0.9 * n):]"
      ],
      "metadata": {
        "id": "XydbWPOc1hFY"
      },
      "execution_count": null,
      "outputs": []
    },
    {
      "cell_type": "code",
      "source": [
        "from sentence_transformers import SentenceTransformer\n",
        "\n",
        "model_path = '/content/drive/MyDrive/CPSC577/Finetune'\n",
        "model = SentenceTransformer(model_path)\n",
        "\n",
        "import faiss\n",
        "all_pmids  = df['pmid'].astype(int).tolist()\n",
        "all_texts  = df['full_text'].tolist()\n",
        "embeddings = model.encode(all_texts, show_progress_bar=True, convert_to_numpy=True)\n",
        "faiss.normalize_L2(embeddings)\n",
        "\n",
        "# create faiss\n",
        "dim   = embeddings.shape[1]\n",
        "index = faiss.IndexFlatIP(dim)\n",
        "index.add(embeddings)\n",
        "\n",
        "import math\n",
        "\n",
        "pmid_to_idx = {pmid: i for i, pmid in enumerate(all_pmids)}\n",
        "\n",
        "\n",
        "def recommend(pmid, top_k):\n",
        "    pmid = int(pmid)\n",
        "    if pmid not in pmid_to_idx:\n",
        "        return []\n",
        "    idx = pmid_to_idx[pmid]\n",
        "    D, I = index.search(embeddings[idx:idx+1], top_k+1)\n",
        "    recs = [all_pmids[i] for i in I[0] if all_pmids[i] != pmid]\n",
        "    return recs[:top_k]\n",
        "\n",
        "def average_precision_at_k(true_list, pred_list, k):\n",
        "    if not true_list: return 0.0\n",
        "    true_set = set(int(x) for x in true_list)\n",
        "    num_rel, score = 0, 0.0\n",
        "    for i, p in enumerate(pred_list[:k], start=1):\n",
        "        if int(p) in true_set:\n",
        "            num_rel += 1\n",
        "            score += num_rel / i\n",
        "    return score / min(len(true_set), k)\n",
        "\n",
        "def dcg_at_k(pred_list, truth_scores, k):\n",
        "    dcg = 0.0\n",
        "    for i, p in enumerate(pred_list[:k], start=1):\n",
        "        rel = truth_scores.get(int(p), 0)\n",
        "        dcg += rel / math.log2(i+1)\n",
        "    return dcg\n",
        "\n",
        "def ndcg_at_k(pred_list, truth_scores, k):\n",
        "    dcg = dcg_at_k(pred_list, truth_scores, k)\n",
        "    ideal = sorted(truth_scores.values(), reverse=True)[:k]\n",
        "    idcg  = sum(v/math.log2(i+1) for i, v in enumerate(ideal, start=1))\n",
        "    return dcg/idcg if idcg>0 else 0.0\n"
      ],
      "metadata": {
        "colab": {
          "base_uri": "https://localhost:8080/",
          "height": 137,
          "referenced_widgets": [
            "d32754380d1c44ecbe67603a75615400",
            "f8fed7de3c134fcfa47e089e9f1d3fde",
            "312e2b6f3e694f949f9ae7c09eb9c17d",
            "71985c0712f140c5ad7a8e19215c208d",
            "f039625ec182427ea81d07bcfa59f061",
            "3a2784edf41444cf8aa4b67edaabf679",
            "d0962e0a85e04ea2b2d5d3005d620cf7",
            "0f724e907230441baa7fc5c80265aabb",
            "9fb080d9f35a4d69a073c1d7365064a1",
            "fe50216049ab44c5ae16d3f92aa6eb67",
            "20ff2fa6fa43485b8952929329f4795a"
          ]
        },
        "id": "ZtL3cH5mVDy7",
        "outputId": "8550ad63-be5e-4231-c675-a3e330c82ae8"
      },
      "execution_count": null,
      "outputs": [
        {
          "metadata": {
            "tags": null
          },
          "name": "stderr",
          "output_type": "stream",
          "text": [
            "WARNING:sentence_transformers.SentenceTransformer:You try to use a model that was created with version 4.0.2, however, your version is 3.4.1. This might cause unexpected behavior or errors. In that case, try to update to the latest version.\n",
            "\n",
            "\n",
            "\n"
          ]
        },
        {
          "data": {
            "application/vnd.jupyter.widget-view+json": {
              "model_id": "d32754380d1c44ecbe67603a75615400",
              "version_major": 2,
              "version_minor": 0
            },
            "text/plain": [
              "Batches:   0%|          | 0/5074 [00:00<?, ?it/s]"
            ]
          },
          "metadata": {},
          "output_type": "display_data"
        }
      ]
    },
    {
      "cell_type": "code",
      "source": [
        "import math\n",
        "from tqdm import tqdm\n",
        "import numpy as np\n",
        "\n",
        "def evaluate_split_with_mrr(split, k_list=[5,10,15]):\n",
        "    scores = {f\"MAP@{k}\": [] for k in k_list}\n",
        "    scores.update({f\"NDCG@{k}\": [] for k in k_list})\n",
        "    scores.update({f\"MRR@{k}\": [] for k in k_list})\n",
        "    skipped = 0\n",
        "\n",
        "    for entry in tqdm(split, desc=\"Eval split\"):\n",
        "        q = int(entry['pmid'])\n",
        "        if q not in pmid_to_idx:\n",
        "            skipped += 1\n",
        "            continue\n",
        "\n",
        "        resp = entry['response']\n",
        "        gt = {}\n",
        "        for p in resp.get('relevant',   []): gt[int(p)] = 2\n",
        "        for p in resp.get('partial',    []): gt[int(p)] = max(gt.get(int(p),0), 1)\n",
        "        for p in resp.get('irrelevant',[]): gt[int(p)] = 0\n",
        "\n",
        "        rel_bin = {pid for pid, sc in gt.items() if sc >= 1}\n",
        "\n",
        "        for k in k_list:\n",
        "            preds = recommend(q, k)\n",
        "            # MAP@k\n",
        "            ap = average_precision_at_k(rel_bin, preds, k)\n",
        "            scores[f\"MAP@{k}\"].append(ap)\n",
        "\n",
        "            # NDCG@k\n",
        "            ndcg = ndcg_at_k(preds, gt, k)\n",
        "            scores[f\"NDCG@{k}\"].append(ndcg)\n",
        "\n",
        "            # MRR@k\n",
        "            rr = 0.0\n",
        "            for rank, pid in enumerate(preds[:k], start=1):\n",
        "                if int(pid) in rel_bin:\n",
        "                    rr = 1.0 / rank\n",
        "                    break\n",
        "            scores[f\"MRR@{k}\"].append(rr)\n",
        "\n",
        "    print(f\"Skipped {skipped} queries not in corpus.\")\n",
        "    return {metric: np.mean(vals) * (100 if metric.startswith((\"MAP\",\"NDCG\")) else 1)\n",
        "            for metric, vals in scores.items()}\n",
        "\n",
        "for name, split in [('Full', labeled_data),\n",
        "                    ('Train', train_data),\n",
        "                    ('Val',   val_data),\n",
        "                    ('Test',  test_data)]:\n",
        "    res = evaluate_split_with_mrr(split, k_list=[5,10,15])\n",
        "    print(f\"\\n==== {name} Set Results ====\")\n",
        "    for metric, val in res.items():\n",
        "        suf = \"%\" if metric.startswith((\"MAP\",\"NDCG\")) else \"\"\n",
        "        print(f\"{metric}: {val:.4f}{suf}\")\n"
      ],
      "metadata": {
        "id": "R98K0VEGprXu",
        "colab": {
          "base_uri": "https://localhost:8080/"
        },
        "outputId": "3ad1ccd9-f430-4a76-d978-ebc207238af0"
      },
      "execution_count": null,
      "outputs": [
        {
          "output_type": "stream",
          "name": "stderr",
          "text": [
            "Eval split: 100%|██████████| 3278/3278 [07:47<00:00,  7.01it/s]\n"
          ]
        },
        {
          "output_type": "stream",
          "name": "stdout",
          "text": [
            "Skipped 54 queries not in corpus.\n",
            "\n",
            "==== Full Set Results ====\n",
            "MAP@5: 75.4695%\n",
            "MAP@10: 66.2318%\n",
            "MAP@15: 59.5028%\n",
            "NDCG@5: 78.3727%\n",
            "NDCG@10: 73.0925%\n",
            "NDCG@15: 69.4876%\n",
            "MRR@5: 0.9097\n",
            "MRR@10: 0.9112\n",
            "MRR@15: 0.9114\n"
          ]
        },
        {
          "output_type": "stream",
          "name": "stderr",
          "text": [
            "Eval split: 100%|██████████| 2622/2622 [06:11<00:00,  7.05it/s]\n"
          ]
        },
        {
          "output_type": "stream",
          "name": "stdout",
          "text": [
            "Skipped 45 queries not in corpus.\n",
            "\n",
            "==== Train Set Results ====\n",
            "MAP@5: 78.3498%\n",
            "MAP@10: 69.2460%\n",
            "MAP@15: 62.4707%\n",
            "NDCG@5: 81.8676%\n",
            "NDCG@10: 76.5874%\n",
            "NDCG@15: 72.9323%\n",
            "MRR@5: 0.9233\n",
            "MRR@10: 0.9245\n",
            "MRR@15: 0.9247\n"
          ]
        },
        {
          "output_type": "stream",
          "name": "stderr",
          "text": [
            "Eval split: 100%|██████████| 328/328 [00:46<00:00,  7.10it/s]\n"
          ]
        },
        {
          "output_type": "stream",
          "name": "stdout",
          "text": [
            "Skipped 5 queries not in corpus.\n",
            "\n",
            "==== Val Set Results ====\n",
            "MAP@5: 65.8844%\n",
            "MAP@10: 56.4892%\n",
            "MAP@15: 49.8314%\n",
            "NDCG@5: 66.5361%\n",
            "NDCG@10: 61.5131%\n",
            "NDCG@15: 57.9866%\n",
            "MRR@5: 0.8523\n",
            "MRR@10: 0.8557\n",
            "MRR@15: 0.8562\n"
          ]
        },
        {
          "output_type": "stream",
          "name": "stderr",
          "text": [
            "Eval split: 100%|██████████| 328/328 [00:45<00:00,  7.17it/s]"
          ]
        },
        {
          "output_type": "stream",
          "name": "stdout",
          "text": [
            "Skipped 4 queries not in corpus.\n",
            "\n",
            "==== Test Set Results ====\n",
            "MAP@5: 62.1163%\n",
            "MAP@10: 51.9706%\n",
            "MAP@15: 45.5386%\n",
            "NDCG@5: 62.3758%\n",
            "NDCG@10: 56.8386%\n",
            "NDCG@15: 53.5548%\n",
            "MRR@5: 0.8588\n",
            "MRR@10: 0.8609\n",
            "MRR@15: 0.8611\n"
          ]
        },
        {
          "output_type": "stream",
          "name": "stderr",
          "text": [
            "\n"
          ]
        }
      ]
    },
    {
      "cell_type": "code",
      "source": [],
      "metadata": {
        "id": "cyKmUP0aSVOW"
      },
      "execution_count": null,
      "outputs": []
    }
  ],
  "metadata": {
    "accelerator": "GPU",
    "colab": {
      "gpuType": "T4",
      "provenance": []
    },
    "kernelspec": {
      "display_name": "Python 3",
      "name": "python3"
    },
    "language_info": {
      "name": "python"
    },
    "widgets": {
      "application/vnd.jupyter.widget-state+json": {
        "d32754380d1c44ecbe67603a75615400": {
          "model_module": "@jupyter-widgets/controls",
          "model_name": "HBoxModel",
          "model_module_version": "1.5.0",
          "state": {
            "_dom_classes": [],
            "_model_module": "@jupyter-widgets/controls",
            "_model_module_version": "1.5.0",
            "_model_name": "HBoxModel",
            "_view_count": null,
            "_view_module": "@jupyter-widgets/controls",
            "_view_module_version": "1.5.0",
            "_view_name": "HBoxView",
            "box_style": "",
            "children": [
              "IPY_MODEL_f8fed7de3c134fcfa47e089e9f1d3fde",
              "IPY_MODEL_312e2b6f3e694f949f9ae7c09eb9c17d",
              "IPY_MODEL_71985c0712f140c5ad7a8e19215c208d"
            ],
            "layout": "IPY_MODEL_f039625ec182427ea81d07bcfa59f061"
          }
        },
        "f8fed7de3c134fcfa47e089e9f1d3fde": {
          "model_module": "@jupyter-widgets/controls",
          "model_name": "HTMLModel",
          "model_module_version": "1.5.0",
          "state": {
            "_dom_classes": [],
            "_model_module": "@jupyter-widgets/controls",
            "_model_module_version": "1.5.0",
            "_model_name": "HTMLModel",
            "_view_count": null,
            "_view_module": "@jupyter-widgets/controls",
            "_view_module_version": "1.5.0",
            "_view_name": "HTMLView",
            "description": "",
            "description_tooltip": null,
            "layout": "IPY_MODEL_3a2784edf41444cf8aa4b67edaabf679",
            "placeholder": "​",
            "style": "IPY_MODEL_d0962e0a85e04ea2b2d5d3005d620cf7",
            "value": "Batches: 100%"
          }
        },
        "312e2b6f3e694f949f9ae7c09eb9c17d": {
          "model_module": "@jupyter-widgets/controls",
          "model_name": "FloatProgressModel",
          "model_module_version": "1.5.0",
          "state": {
            "_dom_classes": [],
            "_model_module": "@jupyter-widgets/controls",
            "_model_module_version": "1.5.0",
            "_model_name": "FloatProgressModel",
            "_view_count": null,
            "_view_module": "@jupyter-widgets/controls",
            "_view_module_version": "1.5.0",
            "_view_name": "ProgressView",
            "bar_style": "success",
            "description": "",
            "description_tooltip": null,
            "layout": "IPY_MODEL_0f724e907230441baa7fc5c80265aabb",
            "max": 5074,
            "min": 0,
            "orientation": "horizontal",
            "style": "IPY_MODEL_9fb080d9f35a4d69a073c1d7365064a1",
            "value": 5074
          }
        },
        "71985c0712f140c5ad7a8e19215c208d": {
          "model_module": "@jupyter-widgets/controls",
          "model_name": "HTMLModel",
          "model_module_version": "1.5.0",
          "state": {
            "_dom_classes": [],
            "_model_module": "@jupyter-widgets/controls",
            "_model_module_version": "1.5.0",
            "_model_name": "HTMLModel",
            "_view_count": null,
            "_view_module": "@jupyter-widgets/controls",
            "_view_module_version": "1.5.0",
            "_view_name": "HTMLView",
            "description": "",
            "description_tooltip": null,
            "layout": "IPY_MODEL_fe50216049ab44c5ae16d3f92aa6eb67",
            "placeholder": "​",
            "style": "IPY_MODEL_20ff2fa6fa43485b8952929329f4795a",
            "value": " 5074/5074 [1:06:31&lt;00:00, 14.13it/s]"
          }
        },
        "f039625ec182427ea81d07bcfa59f061": {
          "model_module": "@jupyter-widgets/base",
          "model_name": "LayoutModel",
          "model_module_version": "1.2.0",
          "state": {
            "_model_module": "@jupyter-widgets/base",
            "_model_module_version": "1.2.0",
            "_model_name": "LayoutModel",
            "_view_count": null,
            "_view_module": "@jupyter-widgets/base",
            "_view_module_version": "1.2.0",
            "_view_name": "LayoutView",
            "align_content": null,
            "align_items": null,
            "align_self": null,
            "border": null,
            "bottom": null,
            "display": null,
            "flex": null,
            "flex_flow": null,
            "grid_area": null,
            "grid_auto_columns": null,
            "grid_auto_flow": null,
            "grid_auto_rows": null,
            "grid_column": null,
            "grid_gap": null,
            "grid_row": null,
            "grid_template_areas": null,
            "grid_template_columns": null,
            "grid_template_rows": null,
            "height": null,
            "justify_content": null,
            "justify_items": null,
            "left": null,
            "margin": null,
            "max_height": null,
            "max_width": null,
            "min_height": null,
            "min_width": null,
            "object_fit": null,
            "object_position": null,
            "order": null,
            "overflow": null,
            "overflow_x": null,
            "overflow_y": null,
            "padding": null,
            "right": null,
            "top": null,
            "visibility": null,
            "width": null
          }
        },
        "3a2784edf41444cf8aa4b67edaabf679": {
          "model_module": "@jupyter-widgets/base",
          "model_name": "LayoutModel",
          "model_module_version": "1.2.0",
          "state": {
            "_model_module": "@jupyter-widgets/base",
            "_model_module_version": "1.2.0",
            "_model_name": "LayoutModel",
            "_view_count": null,
            "_view_module": "@jupyter-widgets/base",
            "_view_module_version": "1.2.0",
            "_view_name": "LayoutView",
            "align_content": null,
            "align_items": null,
            "align_self": null,
            "border": null,
            "bottom": null,
            "display": null,
            "flex": null,
            "flex_flow": null,
            "grid_area": null,
            "grid_auto_columns": null,
            "grid_auto_flow": null,
            "grid_auto_rows": null,
            "grid_column": null,
            "grid_gap": null,
            "grid_row": null,
            "grid_template_areas": null,
            "grid_template_columns": null,
            "grid_template_rows": null,
            "height": null,
            "justify_content": null,
            "justify_items": null,
            "left": null,
            "margin": null,
            "max_height": null,
            "max_width": null,
            "min_height": null,
            "min_width": null,
            "object_fit": null,
            "object_position": null,
            "order": null,
            "overflow": null,
            "overflow_x": null,
            "overflow_y": null,
            "padding": null,
            "right": null,
            "top": null,
            "visibility": null,
            "width": null
          }
        },
        "d0962e0a85e04ea2b2d5d3005d620cf7": {
          "model_module": "@jupyter-widgets/controls",
          "model_name": "DescriptionStyleModel",
          "model_module_version": "1.5.0",
          "state": {
            "_model_module": "@jupyter-widgets/controls",
            "_model_module_version": "1.5.0",
            "_model_name": "DescriptionStyleModel",
            "_view_count": null,
            "_view_module": "@jupyter-widgets/base",
            "_view_module_version": "1.2.0",
            "_view_name": "StyleView",
            "description_width": ""
          }
        },
        "0f724e907230441baa7fc5c80265aabb": {
          "model_module": "@jupyter-widgets/base",
          "model_name": "LayoutModel",
          "model_module_version": "1.2.0",
          "state": {
            "_model_module": "@jupyter-widgets/base",
            "_model_module_version": "1.2.0",
            "_model_name": "LayoutModel",
            "_view_count": null,
            "_view_module": "@jupyter-widgets/base",
            "_view_module_version": "1.2.0",
            "_view_name": "LayoutView",
            "align_content": null,
            "align_items": null,
            "align_self": null,
            "border": null,
            "bottom": null,
            "display": null,
            "flex": null,
            "flex_flow": null,
            "grid_area": null,
            "grid_auto_columns": null,
            "grid_auto_flow": null,
            "grid_auto_rows": null,
            "grid_column": null,
            "grid_gap": null,
            "grid_row": null,
            "grid_template_areas": null,
            "grid_template_columns": null,
            "grid_template_rows": null,
            "height": null,
            "justify_content": null,
            "justify_items": null,
            "left": null,
            "margin": null,
            "max_height": null,
            "max_width": null,
            "min_height": null,
            "min_width": null,
            "object_fit": null,
            "object_position": null,
            "order": null,
            "overflow": null,
            "overflow_x": null,
            "overflow_y": null,
            "padding": null,
            "right": null,
            "top": null,
            "visibility": null,
            "width": null
          }
        },
        "9fb080d9f35a4d69a073c1d7365064a1": {
          "model_module": "@jupyter-widgets/controls",
          "model_name": "ProgressStyleModel",
          "model_module_version": "1.5.0",
          "state": {
            "_model_module": "@jupyter-widgets/controls",
            "_model_module_version": "1.5.0",
            "_model_name": "ProgressStyleModel",
            "_view_count": null,
            "_view_module": "@jupyter-widgets/base",
            "_view_module_version": "1.2.0",
            "_view_name": "StyleView",
            "bar_color": null,
            "description_width": ""
          }
        },
        "fe50216049ab44c5ae16d3f92aa6eb67": {
          "model_module": "@jupyter-widgets/base",
          "model_name": "LayoutModel",
          "model_module_version": "1.2.0",
          "state": {
            "_model_module": "@jupyter-widgets/base",
            "_model_module_version": "1.2.0",
            "_model_name": "LayoutModel",
            "_view_count": null,
            "_view_module": "@jupyter-widgets/base",
            "_view_module_version": "1.2.0",
            "_view_name": "LayoutView",
            "align_content": null,
            "align_items": null,
            "align_self": null,
            "border": null,
            "bottom": null,
            "display": null,
            "flex": null,
            "flex_flow": null,
            "grid_area": null,
            "grid_auto_columns": null,
            "grid_auto_flow": null,
            "grid_auto_rows": null,
            "grid_column": null,
            "grid_gap": null,
            "grid_row": null,
            "grid_template_areas": null,
            "grid_template_columns": null,
            "grid_template_rows": null,
            "height": null,
            "justify_content": null,
            "justify_items": null,
            "left": null,
            "margin": null,
            "max_height": null,
            "max_width": null,
            "min_height": null,
            "min_width": null,
            "object_fit": null,
            "object_position": null,
            "order": null,
            "overflow": null,
            "overflow_x": null,
            "overflow_y": null,
            "padding": null,
            "right": null,
            "top": null,
            "visibility": null,
            "width": null
          }
        },
        "20ff2fa6fa43485b8952929329f4795a": {
          "model_module": "@jupyter-widgets/controls",
          "model_name": "DescriptionStyleModel",
          "model_module_version": "1.5.0",
          "state": {
            "_model_module": "@jupyter-widgets/controls",
            "_model_module_version": "1.5.0",
            "_model_name": "DescriptionStyleModel",
            "_view_count": null,
            "_view_module": "@jupyter-widgets/base",
            "_view_module_version": "1.2.0",
            "_view_name": "StyleView",
            "description_width": ""
          }
        }
      }
    }
  },
  "nbformat": 4,
  "nbformat_minor": 0
}